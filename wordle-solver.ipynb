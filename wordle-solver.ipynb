{
 "cells": [
  {
   "cell_type": "code",
   "execution_count": null,
   "metadata": {},
   "outputs": [],
   "source": [
    "# insert letters at the position which is green\n",
    "letters_position = [None, \"o\", \"u\", None, \"t\"]\n",
    "\n",
    "# all the possible letters\n",
    "letters_possible = [\"t\"]\n",
    "\n",
    "# all letters which are not possible\n",
    "letters_not_possible = [\"a\", \"i\", \"s\", \"l\", \"e\", \"r\", \"c\", \"k\", \"d\", \"b\"]"
   ]
  },
  {
   "cell_type": "code",
   "execution_count": 10,
   "metadata": {},
   "outputs": [],
   "source": [
    "from nltk.corpus import words\n",
    "word_list = words.words()"
   ]
  },
  {
   "cell_type": "code",
   "execution_count": 11,
   "metadata": {},
   "outputs": [],
   "source": [
    "five_letter_words = [i.lower() for i in word_list if len(i) == 5]"
   ]
  },
  {
   "cell_type": "code",
   "execution_count": 13,
   "metadata": {},
   "outputs": [
    {
     "data": {
      "text/plain": [
       "['o', 'u', 't', 't']"
      ]
     },
     "execution_count": 13,
     "metadata": {},
     "output_type": "execute_result"
    }
   ],
   "source": [
    "all_letters_possibility = [i for i in letters_position + letters_possible if i]\n",
    "all_letters_possibility"
   ]
  },
  {
   "cell_type": "code",
   "execution_count": 14,
   "metadata": {},
   "outputs": [],
   "source": [
    "vocab_1 = [i for i in five_letter_words if all(word in i for word in all_letters_possibility)]\n",
    "vocab = [i for i in vocab_1 if all(word not in i for word in letters_not_possible)]"
   ]
  },
  {
   "cell_type": "code",
   "execution_count": 15,
   "metadata": {},
   "outputs": [
    {
     "data": {
      "text/plain": [
       "[(1, 'o'), (2, 'u'), (4, 't')]"
      ]
     },
     "execution_count": 15,
     "metadata": {},
     "output_type": "execute_result"
    }
   ],
   "source": [
    "enumerate_letters = [(i, j) for i,j in enumerate(letters_position) if j]\n",
    "enumerate_letters"
   ]
  },
  {
   "cell_type": "code",
   "execution_count": 16,
   "metadata": {},
   "outputs": [],
   "source": [
    "my_vocab_2 = []\n",
    "my_vocab_3 = []\n",
    "my_vocab_4 = []\n",
    "my_vocab_5 = []\n",
    "\n",
    "if enumerate_letters:\n",
    "    for j,i in enumerate(enumerate_letters):\n",
    "\n",
    "        if j == 0:\n",
    "            my_vocab_2 = []\n",
    "            for k in vocab:\n",
    "                if k[i[0]] == i[1]:\n",
    "                    my_vocab_2.append(k)  \n",
    "        \n",
    "        if j == 1:\n",
    "            my_vocab_3 = []\n",
    "            for k in my_vocab_2:\n",
    "                if k[i[0]] == i[1]:\n",
    "                    my_vocab_3.append(k)  \n",
    "\n",
    "        if j == 2:\n",
    "            my_vocab_4 = []\n",
    "            for k in my_vocab_3:\n",
    "                if k[i[0]] == i[1]:\n",
    "                    my_vocab_4.append(k) \n",
    "\n",
    "\n",
    "        if j == 3:\n",
    "            my_vocab_5 = []\n",
    "            for k in my_vocab_4:\n",
    "                if k[i[0]] == i[1]:\n",
    "                    my_vocab_5.append(k)\n",
    "\n",
    "else:\n",
    "    my_vocab_5 = vocab"
   ]
  },
  {
   "cell_type": "code",
   "execution_count": 17,
   "metadata": {},
   "outputs": [],
   "source": [
    "def get_list():\n",
    "    if my_vocab_5:\n",
    "        return my_vocab_5\n",
    "    elif my_vocab_4:\n",
    "        return my_vocab_4\n",
    "    elif my_vocab_3:\n",
    "        return my_vocab_3\n",
    "    elif my_vocab_2:\n",
    "        return my_vocab_2"
   ]
  },
  {
   "cell_type": "code",
   "execution_count": 18,
   "metadata": {},
   "outputs": [
    {
     "data": {
      "text/plain": [
       "['fount', 'mount']"
      ]
     },
     "execution_count": 18,
     "metadata": {},
     "output_type": "execute_result"
    }
   ],
   "source": [
    "get_list()"
   ]
  },
  {
   "cell_type": "code",
   "execution_count": null,
   "metadata": {},
   "outputs": [],
   "source": []
  }
 ],
 "metadata": {
  "interpreter": {
   "hash": "23f0105a070d1d59ef6680310d87a47d18f97397f0cab46047816bd0620257e2"
  },
  "kernelspec": {
   "display_name": "Python 3.8.11 64-bit ('base': conda)",
   "language": "python",
   "name": "python3"
  },
  "language_info": {
   "codemirror_mode": {
    "name": "ipython",
    "version": 3
   },
   "file_extension": ".py",
   "mimetype": "text/x-python",
   "name": "python",
   "nbconvert_exporter": "python",
   "pygments_lexer": "ipython3",
   "version": "3.8.11"
  },
  "orig_nbformat": 4
 },
 "nbformat": 4,
 "nbformat_minor": 2
}
